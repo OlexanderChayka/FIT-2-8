{
  "metadata": {
    "language_info": {
      "codemirror_mode": {
        "name": "python",
        "version": 3
      },
      "file_extension": ".py",
      "mimetype": "text/x-python",
      "name": "python",
      "nbconvert_exporter": "python",
      "pygments_lexer": "ipython3",
      "version": "3.8"
    },
    "kernelspec": {
      "name": "python",
      "display_name": "Python (Pyodide)",
      "language": "python"
    }
  },
  "nbformat_minor": 4,
  "nbformat": 4,
  "cells": [
    {
      "cell_type": "code",
      "source": "import math \nimport numpy as np  \nfrom scipy import optimize  \nfrom scipy.misc import derivative  \nx0 = 0.6  \ny0 = -0.3  \ndelta = 0.1  \ndef f1(x):  \n    return math.sin(x+1) - 1.2 #задаємо першу функцію  \ndef f2 (y):  \n    return (-math.cos(y) + 2)/2 #задаємо другу функцію \ndef iter (x,y,e):  \n    xn = x  \n    yn = y  \n    xn1 = f2(x)  \n    yn1 = f1(y)  \n    n = 1  \n    while ((abs(xn1-xn)>=e) & (abs(yn1-yn) >=e)):  \n        xn = xn1  \n        yn = yn1  \n        xn1 = f2(yn)  \n        yn1 = f1(xn)  \n        n += 1  \n    print ('Метод простої ітерації:')  \n    print (f'y={yn} \\nx= {xn} \\nКількість ітерацій = {n}')  \niter(x0,y0,0.0001)  \ndef f3(x): #Задаємо функцію для перевірки  \n    return x[1] -  math.sin(x[0]+1)  + 1.2, math.cos(x[1]) + 2*x[0] -2  \ns = optimize.root(f3, [0.,0.], method = 'hybr') #Перевірка розв*язку   \nprint ('Перевірка',s.x) ",
      "metadata": {
        "trusted": true
      },
      "execution_count": 2,
      "outputs": [
        {
          "name": "stdout",
          "text": "Метод простої ітерації:\ny=-0.20000994444699505 \nx= 0.5099802961294126 \nКількість ітерацій = 4\nПеревірка [ 0.51015016 -0.20183842]\n",
          "output_type": "stream"
        }
      ]
    },
    {
      "cell_type": "code",
      "source": "",
      "metadata": {},
      "execution_count": null,
      "outputs": []
    }
  ]
}