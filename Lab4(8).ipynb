{
  "metadata": {
    "language_info": {
      "codemirror_mode": {
        "name": "python",
        "version": 3
      },
      "file_extension": ".py",
      "mimetype": "text/x-python",
      "name": "python",
      "nbconvert_exporter": "python",
      "pygments_lexer": "ipython3",
      "version": "3.8"
    },
    "kernelspec": {
      "name": "python",
      "display_name": "Python (Pyodide)",
      "language": "python"
    }
  },
  "nbformat_minor": 4,
  "nbformat": 4,
  "cells": [
    {
      "cell_type": "code",
      "source": "import numpy as np\n\nA = np.array([[14, 4, 6],\n              [5, -3, 2],\n              [10, -11, 5]])\n\nB = np.array([30, 15, 36])\n\ndet_A = np.linalg.det(A)\n\nA1 = A.copy()\nA2 = A.copy()\nA3 = A.copy()\n\nA1[:, 0] = B\nA2[:, 1] = B\nA3[:, 2] = B\n\nx1 = np.linalg.det(A1) / det_A\nx2 = np.linalg.det(A2) / det_A\nx3 = np.linalg.det(A3) / det_A\n\nprint(f'Розв\\'язок методом Крамера:')\nprint(f'x = {x1}')\nprint(f'y = {x2}')\nprint(f'z = {x3}')\n\nresult = np.linalg.solve(A, B)\nprint(f'Розв\\'язок з використанням solve(): x = {result[0]}, y = {result[1]}, z = {result[2]}')\n",
      "metadata": {
        "trusted": true
      },
      "execution_count": 6,
      "outputs": [
        {
          "name": "stdout",
          "text": "Розв'язок методом Крамера:\nx = 2.0\ny = -1.0\nz = 1.0\nРозв'язок з використанням solve(): x = 2.0000000000000004, y = -1.0, z = 0.9999999999999994\n",
          "output_type": "stream"
        }
      ]
    },
    {
      "cell_type": "code",
      "source": "",
      "metadata": {},
      "execution_count": null,
      "outputs": []
    },
    {
      "cell_type": "code",
      "source": "",
      "metadata": {},
      "execution_count": null,
      "outputs": []
    }
  ]
}