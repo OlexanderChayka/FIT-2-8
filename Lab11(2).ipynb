{
  "metadata": {
    "language_info": {
      "codemirror_mode": {
        "name": "python",
        "version": 3
      },
      "file_extension": ".py",
      "mimetype": "text/x-python",
      "name": "python",
      "nbconvert_exporter": "python",
      "pygments_lexer": "ipython3",
      "version": "3.8"
    },
    "kernelspec": {
      "name": "python",
      "display_name": "Python (Pyodide)",
      "language": "python"
    }
  },
  "nbformat_minor": 4,
  "nbformat": 4,
  "cells": [
    {
      "cell_type": "code",
      "source": "#Обчислення інтеграла методом Симпсона\nfrom scipy import integrate \nimport numpy as np\n\n# Задаємо функцію, яку необхідно інтегрувати\n\ndef f(x):\n    return np.log(x + 2) / x\n\n\n# Задаємо межі інтегрування та початкову кількість розбиттів\na = 1.2\nb = 2\nn = 8\n\n# Обчислюємо значення інтегралу методом Симпсона\ndef simpson_rule(f, a, b, n):\n    h = (b - a) / n \n    integr = f(a) + f(b) \n    for i in range(1,n): \n        k = a + i*h \n        if i%2 == 0: \n            integr += 2 * f(k) \n        else: \n            integr += 4 * f(k) \n    integr *= h/3 \n    return integr \n\n# Обчислюємо значення інтегралу методом Сімпсона\nintegral1 = simpson_rule(f, a, b, n)\nn *= 2\nintegral2 = simpson_rule(f, a, b, n)\nwhile abs(integral2 - integral1) / 15 > 0.0001:\n    integral1 = integral2\n    n *= 2\n    integral2 = simpson_rule(f, a, b, n)\n# Виводимо результат\nprint(\"Метод Сімпсона :\", round(integral2, 4))\n\nv,err = integrate.quad(f,a,b)#Перевірка \nprint(\"Перевірка методу Сімпсона= \",round(v, 4))",
      "metadata": {
        "trusted": true
      },
      "execution_count": 1,
      "outputs": [
        {
          "name": "stdout",
          "text": "Метод Сімпсона : 0.6484\nПеревірка методу Сімпсона=  0.6484\n",
          "output_type": "stream"
        }
      ]
    },
    {
      "cell_type": "code",
      "source": "",
      "metadata": {},
      "execution_count": null,
      "outputs": []
    }
  ]
}