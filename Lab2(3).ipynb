{
  "metadata": {
    "language_info": {
      "codemirror_mode": {
        "name": "python",
        "version": 3
      },
      "file_extension": ".py",
      "mimetype": "text/x-python",
      "name": "python",
      "nbconvert_exporter": "python",
      "pygments_lexer": "ipython3",
      "version": "3.8"
    },
    "kernelspec": {
      "name": "python",
      "display_name": "Python (Pyodide)",
      "language": "python"
    }
  },
  "nbformat_minor": 4,
  "nbformat": 4,
  "cells": [
    {
      "cell_type": "code",
      "source": "import math \nimport numpy as np \nfrom scipy.misc import derivative \ndef f(x): \n   return 9*pow(x, 4) + 8*pow(x,3) + 1.5*pow(x, 2) + 2*x - 10 \neps=0.0001 \n \ndef find_segments(): #відокремлюємо корені \n    search_range = np.arange(-10, 10, 1) \n     \n    a = None \n    previous_x = None \n    current_x  = None \n    segments = [] \n \n    for x in search_range: \n        x = round(x, 4) \n        current_x = f(x) \n        if previous_x != None and previous_x * current_x < 0: \n            segments.append((a, x)) \n        a = x \n        previous_x = current_x \n    return segments \n \nsegments = find_segments() \nfor a, b in segments: \n    print(f'Found segment:  [{a}, {b}]') \ndef hord (a,b,eps): #метод хорд \n    if (f(a)*derivative(f,a,n=2)>0): \n        x0=a \n        xi=b \n    else: \n        x0=b \n     xi=a \n    xi_1=xi-(xi-x0)*f(xi)/(f(xi)-f(x0)) \n    while (abs(xi_1-xi)>eps): \n        xi=xi_1 \n        xi_1=xi-(xi-x0)*f(xi)/(f(xi)-f(x0)) \n    print('x= ', round (xi_1,5) , '  -   Chord method')\na=0. #початок першого відрізка \nb=1. # кінець першого відрізка\nhord (a,b,eps) #викликаємо метод хорд для першого відрізка\n",
      "metadata": {
        "trusted": true
      },
      "execution_count": 4,
      "outputs": [
        {
          "name": "stdout",
          "text": "Found segment:  [-2, -1]\nFound segment:  [0, 1]\nx=  0.79092   -   Half division method\n",
          "output_type": "stream"
        }
      ]
    },
    {
      "cell_type": "code",
      "source": "",
      "metadata": {},
      "execution_count": null,
      "outputs": []
    }
  ]
}