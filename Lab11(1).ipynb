{
  "metadata": {
    "language_info": {
      "codemirror_mode": {
        "name": "python",
        "version": 3
      },
      "file_extension": ".py",
      "mimetype": "text/x-python",
      "name": "python",
      "nbconvert_exporter": "python",
      "pygments_lexer": "ipython3",
      "version": "3.8"
    },
    "kernelspec": {
      "name": "python",
      "display_name": "Python (Pyodide)",
      "language": "python"
    }
  },
  "nbformat_minor": 4,
  "nbformat": 4,
  "cells": [
    {
      "cell_type": "code",
      "source": "# Чайка Олександр\n# Варіант 1\n\n#Обчислення інтеграла методом прямокутників\nfrom scipy import integrate \nimport numpy as np\neps = 0.01\na = 0.8\nb = 1.6\nn = 10\n\ndef f1(x):\n    return np.sqrt(2) / np.sqrt(x**2 + 0.5)\n\ndef left_rec(f1,a,b,n): \n    h=(b-a)/n \n    sum=0 \n    for i in range(0,n): \n        sum+=f1(a+i*h) \n    return sum*h \n\nv,err = integrate.quad(f1,a,b) #Перевірка\n\n#Перевірка точності за правилом Рунге:\nif abs(left_rec(f1,a,b,2*n) - left_rec(f1,a,b,n))/3. <=eps:\n    print(\"Метод лівих прямокутників : \",round (left_rec(f1,a,b,n), 4)) \n    \ndef right_rec(f1,a,b,n): \n    h=(b-a)/n \n    sum=0 \n    for i in range(1,n+1): \n        sum+=f1(a+i*h) \n    return sum*h \nprint(\"Метод правих прямокутників : \",round (right_rec(f1,a,b,10), 4)) \ndef aver_rec(f1,a,b,n): \n    h=0.08 \n    sum=0 \n    for i in range(0,n): \n        sum+=f1(a+i*h) \n    return sum*h \nprint(\"Метод середніх прямокутників : \",round (aver_rec(f1,a,b,10), 4)) \nprint(\"Перевірка методів прямокутника = \",round (v, 4))",
      "metadata": {
        "trusted": true
      },
      "execution_count": 9,
      "outputs": [
        {
          "name": "stdout",
          "text": "Метод лівих прямокутників :  0.8469\nМетод правих прямокутників :  0.8056\nМетод середніх прямокутників :  0.8469\nПеревірка методів прямокутника =  0.826\n",
          "output_type": "stream"
        }
      ]
    },
    {
      "cell_type": "code",
      "source": "",
      "metadata": {},
      "execution_count": null,
      "outputs": []
    },
    {
      "cell_type": "code",
      "source": "",
      "metadata": {},
      "execution_count": null,
      "outputs": []
    }
  ]
}