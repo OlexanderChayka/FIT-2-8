{
  "metadata": {
    "language_info": {
      "codemirror_mode": {
        "name": "python",
        "version": 3
      },
      "file_extension": ".py",
      "mimetype": "text/x-python",
      "name": "python",
      "nbconvert_exporter": "python",
      "pygments_lexer": "ipython3",
      "version": "3.8"
    },
    "kernelspec": {
      "name": "python",
      "display_name": "Python (Pyodide)",
      "language": "python"
    }
  },
  "nbformat_minor": 4,
  "nbformat": 4,
  "cells": [
    {
      "cell_type": "code",
      "source": "#Обчислення інтегралу методом трапецій\nfrom scipy import integrate \nimport numpy as np\n\n# Задаємо функцію, яку необхідно інтегрувати\ndef f(x):\n    return 1 / np.sqrt(x**2 + 2.3)\n\n\n# Задаємо межі інтегрування та початкову кількість розбиттів\na = 0.66\nb = 0.32\nn = 20\n\n# Обчислюємо значення інтегралу методом трапецій\ndef trapezoidal_rule(f, a, b, n):\n    h = (b - a) / n\n    x = a\n    sum = 0\n    for i in range(1, n):\n        x += h\n        sum += 2 * f(x)\n    sum += f(b)\n    integral = h / 2 * sum\n\n    return integral\n\n# Обчислюємо значення інтегралу методом трапецій\n#Перевірка точності за правилом Рунге\nintegral1 = trapezoidal_rule(f, a, b, n)\nn *= 2\nintegral2 = trapezoidal_rule(f, a, b, n)\n\nwhile abs(integral2 - integral1) / 3 > 0.0001:\n    integral1 = integral2\n    n *= 2\n    integral2 = trapezoidal_rule(f, a, b, n)\n\n# Виводимо результат\nprint(\"Метод  трапеції:\", round(integral2, 5))\n\nv,err = integrate.quad(f,a,b) #Перевірка\nprint(\"Перевірка методу трапеції= \",round(v, 5))",
      "metadata": {
        "trusted": true
      },
      "execution_count": 1,
      "outputs": [
        {
          "name": "stdout",
          "text": "Метод  трапеції: -0.21288\nПеревірка методу трапеції=  -0.21304\n",
          "output_type": "stream"
        }
      ]
    },
    {
      "cell_type": "code",
      "source": "",
      "metadata": {},
      "execution_count": null,
      "outputs": []
    }
  ]
}