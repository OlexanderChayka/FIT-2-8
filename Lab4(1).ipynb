{
  "metadata": {
    "language_info": {
      "codemirror_mode": {
        "name": "python",
        "version": 3
      },
      "file_extension": ".py",
      "mimetype": "text/x-python",
      "name": "python",
      "nbconvert_exporter": "python",
      "pygments_lexer": "ipython3",
      "version": "3.8"
    },
    "kernelspec": {
      "name": "python",
      "display_name": "Python (Pyodide)",
      "language": "python"
    }
  },
  "nbformat_minor": 4,
  "nbformat": 4,
  "cells": [
    {
      "cell_type": "code",
      "source": "import numpy as np\n\n# Задання матриці A\nA = np.array([[2, 3, 1],\n              [-1, 1, 0],\n              [1, 2, -1]])\n\n# Задання матриці B\nB = np.array([[1, 2, 1],\n              [0, 1, 2],\n              [3, 1, 1]])\n\n# Обчислення добутку AB\nAB = np.dot(A, B)\n\n# Обчислення добутку BA\nBA = np.dot(B, A)\n\n# Обчислення матриці C = AB - BA\nC = AB - BA\n\nprint(C)\n",
      "metadata": {
        "trusted": true
      },
      "execution_count": 3,
      "outputs": [
        {
          "name": "stdout",
          "text": "[[ 4  1  9]\n [-2 -6  3]\n [-8 -9  2]]\n",
          "output_type": "stream"
        }
      ]
    },
    {
      "cell_type": "code",
      "source": "",
      "metadata": {},
      "execution_count": null,
      "outputs": []
    }
  ]
}