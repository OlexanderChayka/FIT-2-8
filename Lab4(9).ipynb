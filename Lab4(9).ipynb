{
  "metadata": {
    "language_info": {
      "codemirror_mode": {
        "name": "python",
        "version": 3
      },
      "file_extension": ".py",
      "mimetype": "text/x-python",
      "name": "python",
      "nbconvert_exporter": "python",
      "pygments_lexer": "ipython3",
      "version": "3.8"
    },
    "kernelspec": {
      "name": "python",
      "display_name": "Python (Pyodide)",
      "language": "python"
    }
  },
  "nbformat_minor": 4,
  "nbformat": 4,
  "cells": [
    {
      "cell_type": "code",
      "source": "import numpy as np\n\n# Задаємо розмірність матриці\nN = 5  # Кількість рядків\nM = 4  # Кількість стовпців\n\n# Генеруємо випадкову матрицю\nA = np.random.rand(N, M)\n\n# Знаходимо середні значення для кожного рядка\nrow_means = np.mean(A, axis=1)\n\n# Знаходимо найнижче середнє значення\nmin_row_mean = np.min(row_means)\n\n# Знаходимо індекс рядка з найнижчим середнім значенням\nmin_row_index = np.argmin(row_means)\n\n# Виводимо матрицю та результати\nprint(\"Матриця A:\")\nprint(A)\nprint(\"\\nСередні значення для кожного рядка:\")\nprint(row_means)\nprint(f\"\\nНайнижче середнє значення: {min_row_mean} (знаходиться в рядку {min_row_index})\")\nult[1], z = {result[2]}\n",
      "metadata": {
        "trusted": true
      },
      "execution_count": 1,
      "outputs": [
        {
          "name": "stdout",
          "text": "Матриця A:\n[[0.58758854 0.46609525 0.67037425 0.52222097]\n [0.92549742 0.60121491 0.32780789 0.61557234]\n [0.18658096 0.63315057 0.3668675  0.80702914]\n [0.46460009 0.9509393  0.10659622 0.20176629]\n [0.54252206 0.08947303 0.6385807  0.05117522]]\n\nСередні значення для кожного рядка:\n[0.56156975 0.61752314 0.49840704 0.43097547 0.33043775]\n\nНайнижче середнє значення: 0.33043775077084814 (знаходиться в рядку 4)\n",
          "output_type": "stream"
        },
        {
          "ename": "<class 'NameError'>",
          "evalue": "name 'result' is not defined",
          "traceback": [
            "\u001b[0;31m---------------------------------------------------------------------------\u001b[0m",
            "\u001b[0;31mNameError\u001b[0m                                 Traceback (most recent call last)",
            "Cell \u001b[0;32mIn[1], line 25\u001b[0m\n\u001b[1;32m     23\u001b[0m \u001b[38;5;28mprint\u001b[39m(row_means)\n\u001b[1;32m     24\u001b[0m \u001b[38;5;28mprint\u001b[39m(\u001b[38;5;124mf\u001b[39m\u001b[38;5;124m\"\u001b[39m\u001b[38;5;130;01m\\n\u001b[39;00m\u001b[38;5;124mНайнижче середнє значення: \u001b[39m\u001b[38;5;132;01m{\u001b[39;00mmin_row_mean\u001b[38;5;132;01m}\u001b[39;00m\u001b[38;5;124m (знаходиться в рядку \u001b[39m\u001b[38;5;132;01m{\u001b[39;00mmin_row_index\u001b[38;5;132;01m}\u001b[39;00m\u001b[38;5;124m)\u001b[39m\u001b[38;5;124m\"\u001b[39m)\n\u001b[0;32m---> 25\u001b[0m ult[\u001b[38;5;241m1\u001b[39m], z \u001b[38;5;241m=\u001b[39m {\u001b[43mresult\u001b[49m[\u001b[38;5;241m2\u001b[39m]}\n",
            "\u001b[0;31mNameError\u001b[0m: name 'result' is not defined"
          ],
          "output_type": "error"
        }
      ]
    },
    {
      "cell_type": "code",
      "source": "",
      "metadata": {},
      "execution_count": null,
      "outputs": []
    }
  ]
}