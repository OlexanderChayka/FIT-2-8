{
  "metadata": {
    "language_info": {
      "codemirror_mode": {
        "name": "python",
        "version": 3
      },
      "file_extension": ".py",
      "mimetype": "text/x-python",
      "name": "python",
      "nbconvert_exporter": "python",
      "pygments_lexer": "ipython3",
      "version": "3.8"
    },
    "kernelspec": {
      "name": "python",
      "display_name": "Python (Pyodide)",
      "language": "python"
    }
  },
  "nbformat_minor": 4,
  "nbformat": 4,
  "cells": [
    {
      "cell_type": "code",
      "source": "import math \n\nx1 = 44 # Точне число sqrt(x1) \nx2 = 19 / 41 # Точне число x2 \nx1_1 = 6.63 # Наближене число x1 \nx2_2 = 0.463 # Наближене число x2 \n\ndef f(x1, x1_1, x2, x2_2): \n\n   rel_error_x1 = abs(math.sqrt(x1) - x1_1) / abs(math.sqrt(x1)) \n\n   rel_error_x2 = abs(x2 - x2_2) / abs(x2) \n\n   if rel_error_x1 < rel_error_x2: \n      print(\"Перша рівність точніше з відносною похибкою:\", rel_error_x1) \n   elif rel_error_x2 < rel_error_x1: \n      print(\"Друга рівність точніше з відносною похибкою:\", rel_error_x2) \n   else: \n       print(\"Обидві рівності мають однакову точність з відносною похибкою:\", rel_error_x1) \n\n \n\nf(x1, x1_1, x2, x2_2) ",
      "metadata": {
        "trusted": true
      },
      "execution_count": 2,
      "outputs": [
        {
          "name": "stdout",
          "text": "Перша рівність точніше з відносною похибкою: 0.0004898927247135953\n",
          "output_type": "stream"
        }
      ]
    },
    {
      "cell_type": "code",
      "source": "",
      "metadata": {},
      "execution_count": null,
      "outputs": []
    }
  ]
}